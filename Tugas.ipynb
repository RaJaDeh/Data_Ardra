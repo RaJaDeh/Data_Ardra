{
 "cells": [
  {
   "cell_type": "markdown",
   "id": "76247046",
   "metadata": {},
   "source": [
    "# AHMAD ARDRA DAMARJATI\n",
    "# 71486"
   ]
  },
  {
   "cell_type": "code",
   "execution_count": 1,
   "id": "c734c34d",
   "metadata": {},
   "outputs": [],
   "source": [
    "import pandas as pd\n",
    "import numpy as np\n",
    "import seaborn as sns\n",
    "import matplotlib.pyplot as plt"
   ]
  },
  {
   "cell_type": "code",
   "execution_count": 2,
   "id": "391434e8",
   "metadata": {},
   "outputs": [
    {
     "data": {
      "text/html": [
       "<div>\n",
       "<style scoped>\n",
       "    .dataframe tbody tr th:only-of-type {\n",
       "        vertical-align: middle;\n",
       "    }\n",
       "\n",
       "    .dataframe tbody tr th {\n",
       "        vertical-align: top;\n",
       "    }\n",
       "\n",
       "    .dataframe thead th {\n",
       "        text-align: right;\n",
       "    }\n",
       "</style>\n",
       "<table border=\"1\" class=\"dataframe\">\n",
       "  <thead>\n",
       "    <tr style=\"text-align: right;\">\n",
       "      <th></th>\n",
       "      <th>order_id</th>\n",
       "      <th>order_date</th>\n",
       "      <th>ship_date</th>\n",
       "      <th>ship_mode</th>\n",
       "      <th>customer_name</th>\n",
       "      <th>segment</th>\n",
       "      <th>state</th>\n",
       "      <th>country</th>\n",
       "      <th>market</th>\n",
       "      <th>region</th>\n",
       "      <th>...</th>\n",
       "      <th>category</th>\n",
       "      <th>sub_category</th>\n",
       "      <th>product_name</th>\n",
       "      <th>sales</th>\n",
       "      <th>quantity</th>\n",
       "      <th>discount</th>\n",
       "      <th>profit</th>\n",
       "      <th>shipping_cost</th>\n",
       "      <th>order_priority</th>\n",
       "      <th>year</th>\n",
       "    </tr>\n",
       "  </thead>\n",
       "  <tbody>\n",
       "    <tr>\n",
       "      <th>0</th>\n",
       "      <td>AG-2011-2040</td>\n",
       "      <td>01-01-2011</td>\n",
       "      <td>06-01-2011</td>\n",
       "      <td>Standard Class</td>\n",
       "      <td>Toby Braunhardt</td>\n",
       "      <td>Consumer</td>\n",
       "      <td>Constantine</td>\n",
       "      <td>Algeria</td>\n",
       "      <td>Africa</td>\n",
       "      <td>Africa</td>\n",
       "      <td>...</td>\n",
       "      <td>Office Supplies</td>\n",
       "      <td>Storage</td>\n",
       "      <td>Tenex Lockers, Blue</td>\n",
       "      <td>408</td>\n",
       "      <td>2</td>\n",
       "      <td>0.0</td>\n",
       "      <td>106.1400</td>\n",
       "      <td>35.46</td>\n",
       "      <td>Medium</td>\n",
       "      <td>2011</td>\n",
       "    </tr>\n",
       "    <tr>\n",
       "      <th>1</th>\n",
       "      <td>IN-2011-47883</td>\n",
       "      <td>01-01-2011</td>\n",
       "      <td>08-01-2011</td>\n",
       "      <td>Standard Class</td>\n",
       "      <td>Joseph Holt</td>\n",
       "      <td>Consumer</td>\n",
       "      <td>New South Wales</td>\n",
       "      <td>Australia</td>\n",
       "      <td>APAC</td>\n",
       "      <td>Oceania</td>\n",
       "      <td>...</td>\n",
       "      <td>Office Supplies</td>\n",
       "      <td>Supplies</td>\n",
       "      <td>Acme Trimmer, High Speed</td>\n",
       "      <td>120</td>\n",
       "      <td>3</td>\n",
       "      <td>0.1</td>\n",
       "      <td>36.0360</td>\n",
       "      <td>9.72</td>\n",
       "      <td>Medium</td>\n",
       "      <td>2011</td>\n",
       "    </tr>\n",
       "    <tr>\n",
       "      <th>2</th>\n",
       "      <td>HU-2011-1220</td>\n",
       "      <td>01-01-2011</td>\n",
       "      <td>05-01-2011</td>\n",
       "      <td>Second Class</td>\n",
       "      <td>Annie Thurman</td>\n",
       "      <td>Consumer</td>\n",
       "      <td>Budapest</td>\n",
       "      <td>Hungary</td>\n",
       "      <td>EMEA</td>\n",
       "      <td>EMEA</td>\n",
       "      <td>...</td>\n",
       "      <td>Office Supplies</td>\n",
       "      <td>Storage</td>\n",
       "      <td>Tenex Box, Single Width</td>\n",
       "      <td>66</td>\n",
       "      <td>4</td>\n",
       "      <td>0.0</td>\n",
       "      <td>29.6400</td>\n",
       "      <td>8.17</td>\n",
       "      <td>High</td>\n",
       "      <td>2011</td>\n",
       "    </tr>\n",
       "    <tr>\n",
       "      <th>3</th>\n",
       "      <td>IT-2011-3647632</td>\n",
       "      <td>01-01-2011</td>\n",
       "      <td>05-01-2011</td>\n",
       "      <td>Second Class</td>\n",
       "      <td>Eugene Moren</td>\n",
       "      <td>Home Office</td>\n",
       "      <td>Stockholm</td>\n",
       "      <td>Sweden</td>\n",
       "      <td>EU</td>\n",
       "      <td>North</td>\n",
       "      <td>...</td>\n",
       "      <td>Office Supplies</td>\n",
       "      <td>Paper</td>\n",
       "      <td>Enermax Note Cards, Premium</td>\n",
       "      <td>45</td>\n",
       "      <td>3</td>\n",
       "      <td>0.5</td>\n",
       "      <td>-26.0550</td>\n",
       "      <td>4.82</td>\n",
       "      <td>High</td>\n",
       "      <td>2011</td>\n",
       "    </tr>\n",
       "    <tr>\n",
       "      <th>4</th>\n",
       "      <td>IN-2011-47883</td>\n",
       "      <td>01-01-2011</td>\n",
       "      <td>08-01-2011</td>\n",
       "      <td>Standard Class</td>\n",
       "      <td>Joseph Holt</td>\n",
       "      <td>Consumer</td>\n",
       "      <td>New South Wales</td>\n",
       "      <td>Australia</td>\n",
       "      <td>APAC</td>\n",
       "      <td>Oceania</td>\n",
       "      <td>...</td>\n",
       "      <td>Furniture</td>\n",
       "      <td>Furnishings</td>\n",
       "      <td>Eldon Light Bulb, Duo Pack</td>\n",
       "      <td>114</td>\n",
       "      <td>5</td>\n",
       "      <td>0.1</td>\n",
       "      <td>37.7700</td>\n",
       "      <td>4.70</td>\n",
       "      <td>Medium</td>\n",
       "      <td>2011</td>\n",
       "    </tr>\n",
       "    <tr>\n",
       "      <th>...</th>\n",
       "      <td>...</td>\n",
       "      <td>...</td>\n",
       "      <td>...</td>\n",
       "      <td>...</td>\n",
       "      <td>...</td>\n",
       "      <td>...</td>\n",
       "      <td>...</td>\n",
       "      <td>...</td>\n",
       "      <td>...</td>\n",
       "      <td>...</td>\n",
       "      <td>...</td>\n",
       "      <td>...</td>\n",
       "      <td>...</td>\n",
       "      <td>...</td>\n",
       "      <td>...</td>\n",
       "      <td>...</td>\n",
       "      <td>...</td>\n",
       "      <td>...</td>\n",
       "      <td>...</td>\n",
       "      <td>...</td>\n",
       "      <td>...</td>\n",
       "    </tr>\n",
       "    <tr>\n",
       "      <th>51285</th>\n",
       "      <td>CA-2014-115427</td>\n",
       "      <td>31-12-2014</td>\n",
       "      <td>04-01-2015</td>\n",
       "      <td>Standard Class</td>\n",
       "      <td>Erica Bern</td>\n",
       "      <td>Corporate</td>\n",
       "      <td>California</td>\n",
       "      <td>United States</td>\n",
       "      <td>US</td>\n",
       "      <td>West</td>\n",
       "      <td>...</td>\n",
       "      <td>Office Supplies</td>\n",
       "      <td>Binders</td>\n",
       "      <td>Cardinal Slant-D Ring Binder, Heavy Gauge Vinyl</td>\n",
       "      <td>14</td>\n",
       "      <td>2</td>\n",
       "      <td>0.2</td>\n",
       "      <td>4.5188</td>\n",
       "      <td>0.89</td>\n",
       "      <td>Medium</td>\n",
       "      <td>2014</td>\n",
       "    </tr>\n",
       "    <tr>\n",
       "      <th>51286</th>\n",
       "      <td>MO-2014-2560</td>\n",
       "      <td>31-12-2014</td>\n",
       "      <td>05-01-2015</td>\n",
       "      <td>Standard Class</td>\n",
       "      <td>Liz Preis</td>\n",
       "      <td>Consumer</td>\n",
       "      <td>Souss-Massa-Draâ</td>\n",
       "      <td>Morocco</td>\n",
       "      <td>Africa</td>\n",
       "      <td>Africa</td>\n",
       "      <td>...</td>\n",
       "      <td>Office Supplies</td>\n",
       "      <td>Binders</td>\n",
       "      <td>Wilson Jones Hole Reinforcements, Clear</td>\n",
       "      <td>4</td>\n",
       "      <td>1</td>\n",
       "      <td>0.0</td>\n",
       "      <td>0.4200</td>\n",
       "      <td>0.49</td>\n",
       "      <td>Medium</td>\n",
       "      <td>2014</td>\n",
       "    </tr>\n",
       "    <tr>\n",
       "      <th>51287</th>\n",
       "      <td>MX-2014-110527</td>\n",
       "      <td>31-12-2014</td>\n",
       "      <td>02-01-2015</td>\n",
       "      <td>Second Class</td>\n",
       "      <td>Charlotte Melton</td>\n",
       "      <td>Consumer</td>\n",
       "      <td>Managua</td>\n",
       "      <td>Nicaragua</td>\n",
       "      <td>LATAM</td>\n",
       "      <td>Central</td>\n",
       "      <td>...</td>\n",
       "      <td>Office Supplies</td>\n",
       "      <td>Labels</td>\n",
       "      <td>Hon Color Coded Labels, 5000 Label Set</td>\n",
       "      <td>26</td>\n",
       "      <td>3</td>\n",
       "      <td>0.0</td>\n",
       "      <td>12.3600</td>\n",
       "      <td>0.35</td>\n",
       "      <td>Medium</td>\n",
       "      <td>2014</td>\n",
       "    </tr>\n",
       "    <tr>\n",
       "      <th>51288</th>\n",
       "      <td>MX-2014-114783</td>\n",
       "      <td>31-12-2014</td>\n",
       "      <td>06-01-2015</td>\n",
       "      <td>Standard Class</td>\n",
       "      <td>Tamara Dahlen</td>\n",
       "      <td>Consumer</td>\n",
       "      <td>Chihuahua</td>\n",
       "      <td>Mexico</td>\n",
       "      <td>LATAM</td>\n",
       "      <td>North</td>\n",
       "      <td>...</td>\n",
       "      <td>Office Supplies</td>\n",
       "      <td>Labels</td>\n",
       "      <td>Hon Legal Exhibit Labels, Alphabetical</td>\n",
       "      <td>7</td>\n",
       "      <td>1</td>\n",
       "      <td>0.0</td>\n",
       "      <td>0.5600</td>\n",
       "      <td>0.20</td>\n",
       "      <td>Medium</td>\n",
       "      <td>2014</td>\n",
       "    </tr>\n",
       "    <tr>\n",
       "      <th>51289</th>\n",
       "      <td>CA-2014-156720</td>\n",
       "      <td>31-12-2014</td>\n",
       "      <td>04-01-2015</td>\n",
       "      <td>Standard Class</td>\n",
       "      <td>Jill Matthias</td>\n",
       "      <td>Consumer</td>\n",
       "      <td>Colorado</td>\n",
       "      <td>United States</td>\n",
       "      <td>US</td>\n",
       "      <td>West</td>\n",
       "      <td>...</td>\n",
       "      <td>Office Supplies</td>\n",
       "      <td>Fasteners</td>\n",
       "      <td>Bagged Rubber Bands</td>\n",
       "      <td>3</td>\n",
       "      <td>3</td>\n",
       "      <td>0.2</td>\n",
       "      <td>-0.6048</td>\n",
       "      <td>0.17</td>\n",
       "      <td>Medium</td>\n",
       "      <td>2014</td>\n",
       "    </tr>\n",
       "  </tbody>\n",
       "</table>\n",
       "<p>51290 rows × 21 columns</p>\n",
       "</div>"
      ],
      "text/plain": [
       "              order_id  order_date   ship_date       ship_mode  \\\n",
       "0         AG-2011-2040  01-01-2011  06-01-2011  Standard Class   \n",
       "1        IN-2011-47883  01-01-2011  08-01-2011  Standard Class   \n",
       "2         HU-2011-1220  01-01-2011  05-01-2011    Second Class   \n",
       "3      IT-2011-3647632  01-01-2011  05-01-2011    Second Class   \n",
       "4        IN-2011-47883  01-01-2011  08-01-2011  Standard Class   \n",
       "...                ...         ...         ...             ...   \n",
       "51285   CA-2014-115427  31-12-2014  04-01-2015  Standard Class   \n",
       "51286     MO-2014-2560  31-12-2014  05-01-2015  Standard Class   \n",
       "51287   MX-2014-110527  31-12-2014  02-01-2015    Second Class   \n",
       "51288   MX-2014-114783  31-12-2014  06-01-2015  Standard Class   \n",
       "51289   CA-2014-156720  31-12-2014  04-01-2015  Standard Class   \n",
       "\n",
       "          customer_name      segment             state        country  market  \\\n",
       "0       Toby Braunhardt     Consumer       Constantine        Algeria  Africa   \n",
       "1           Joseph Holt     Consumer   New South Wales      Australia    APAC   \n",
       "2         Annie Thurman     Consumer          Budapest        Hungary    EMEA   \n",
       "3          Eugene Moren  Home Office         Stockholm         Sweden      EU   \n",
       "4           Joseph Holt     Consumer   New South Wales      Australia    APAC   \n",
       "...                 ...          ...               ...            ...     ...   \n",
       "51285        Erica Bern    Corporate        California  United States      US   \n",
       "51286         Liz Preis     Consumer  Souss-Massa-Draâ        Morocco  Africa   \n",
       "51287  Charlotte Melton     Consumer           Managua      Nicaragua   LATAM   \n",
       "51288     Tamara Dahlen     Consumer         Chihuahua         Mexico   LATAM   \n",
       "51289     Jill Matthias     Consumer          Colorado  United States      US   \n",
       "\n",
       "        region  ...         category sub_category  \\\n",
       "0       Africa  ...  Office Supplies      Storage   \n",
       "1      Oceania  ...  Office Supplies     Supplies   \n",
       "2         EMEA  ...  Office Supplies      Storage   \n",
       "3        North  ...  Office Supplies        Paper   \n",
       "4      Oceania  ...        Furniture  Furnishings   \n",
       "...        ...  ...              ...          ...   \n",
       "51285     West  ...  Office Supplies      Binders   \n",
       "51286   Africa  ...  Office Supplies      Binders   \n",
       "51287  Central  ...  Office Supplies       Labels   \n",
       "51288    North  ...  Office Supplies       Labels   \n",
       "51289     West  ...  Office Supplies    Fasteners   \n",
       "\n",
       "                                          product_name sales quantity  \\\n",
       "0                                  Tenex Lockers, Blue   408        2   \n",
       "1                             Acme Trimmer, High Speed   120        3   \n",
       "2                              Tenex Box, Single Width    66        4   \n",
       "3                          Enermax Note Cards, Premium    45        3   \n",
       "4                           Eldon Light Bulb, Duo Pack   114        5   \n",
       "...                                                ...   ...      ...   \n",
       "51285  Cardinal Slant-D Ring Binder, Heavy Gauge Vinyl    14        2   \n",
       "51286          Wilson Jones Hole Reinforcements, Clear     4        1   \n",
       "51287           Hon Color Coded Labels, 5000 Label Set    26        3   \n",
       "51288           Hon Legal Exhibit Labels, Alphabetical     7        1   \n",
       "51289                              Bagged Rubber Bands     3        3   \n",
       "\n",
       "       discount    profit  shipping_cost  order_priority  year  \n",
       "0           0.0  106.1400          35.46          Medium  2011  \n",
       "1           0.1   36.0360           9.72          Medium  2011  \n",
       "2           0.0   29.6400           8.17            High  2011  \n",
       "3           0.5  -26.0550           4.82            High  2011  \n",
       "4           0.1   37.7700           4.70          Medium  2011  \n",
       "...         ...       ...            ...             ...   ...  \n",
       "51285       0.2    4.5188           0.89          Medium  2014  \n",
       "51286       0.0    0.4200           0.49          Medium  2014  \n",
       "51287       0.0   12.3600           0.35          Medium  2014  \n",
       "51288       0.0    0.5600           0.20          Medium  2014  \n",
       "51289       0.2   -0.6048           0.17          Medium  2014  \n",
       "\n",
       "[51290 rows x 21 columns]"
      ]
     },
     "execution_count": 2,
     "metadata": {},
     "output_type": "execute_result"
    }
   ],
   "source": [
    "df = pd.read_csv('SuperStoreOrders.csv', encoding='ISO-8859-1')\n",
    "df"
   ]
  },
  {
   "cell_type": "code",
   "execution_count": 3,
   "id": "b93f0bb8",
   "metadata": {},
   "outputs": [],
   "source": [
    "df['sales'] = df['sales'].str.replace(',', '') \n",
    "df['sales'] = df['sales'].astype(int)"
   ]
  },
  {
   "cell_type": "code",
   "execution_count": 4,
   "id": "e56d2237",
   "metadata": {},
   "outputs": [
    {
     "name": "stdout",
     "output_type": "stream",
     "text": [
      "<class 'pandas.core.frame.DataFrame'>\n",
      "RangeIndex: 51290 entries, 0 to 51289\n",
      "Data columns (total 21 columns):\n",
      " #   Column          Non-Null Count  Dtype  \n",
      "---  ------          --------------  -----  \n",
      " 0   order_id        51290 non-null  object \n",
      " 1   order_date      51290 non-null  object \n",
      " 2   ship_date       51290 non-null  object \n",
      " 3   ship_mode       51290 non-null  object \n",
      " 4   customer_name   51290 non-null  object \n",
      " 5   segment         51290 non-null  object \n",
      " 6   state           51290 non-null  object \n",
      " 7   country         51290 non-null  object \n",
      " 8   market          51290 non-null  object \n",
      " 9   region          51290 non-null  object \n",
      " 10  product_id      51290 non-null  object \n",
      " 11  category        51290 non-null  object \n",
      " 12  sub_category    51290 non-null  object \n",
      " 13  product_name    51290 non-null  object \n",
      " 14  sales           51290 non-null  int64  \n",
      " 15  quantity        51290 non-null  int64  \n",
      " 16  discount        51290 non-null  float64\n",
      " 17  profit          51290 non-null  float64\n",
      " 18  shipping_cost   51290 non-null  float64\n",
      " 19  order_priority  51290 non-null  object \n",
      " 20  year            51290 non-null  int64  \n",
      "dtypes: float64(3), int64(3), object(15)\n",
      "memory usage: 8.2+ MB\n"
     ]
    }
   ],
   "source": [
    "df.info()"
   ]
  },
  {
   "cell_type": "markdown",
   "id": "38b8b8ec",
   "metadata": {},
   "source": [
    "## CEK SEMUA KOLOM"
   ]
  },
  {
   "cell_type": "code",
   "execution_count": 16,
   "id": "a3262e7c",
   "metadata": {},
   "outputs": [
    {
     "name": "stdout",
     "output_type": "stream",
     "text": [
      "Kolom: sales\n",
      "Sum       : 12,642,905.00\n",
      "Mean      : 246.50\n",
      "Median    : 85.00\n",
      "Modus     : 13.00\n",
      "Std       : 487.57\n",
      "Var       : 237,721.75\n",
      "Min       : 0.00\n",
      "Max       : 22,638.00\n",
      "PTP       : 22,638.00\n",
      "Skewness  : 8.14\n",
      "Kurtosis  : 176.72\n",
      "Q1        : 31.00\n",
      "Q3        : 251.00\n",
      "IQR       : 220.00\n",
      "=--==--==--==--==--==--==--==--==--==--=\n",
      "Kolom: quantity\n",
      "Sum       : 178,312.00\n",
      "Mean      : 3.48\n",
      "Median    : 3.00\n",
      "Modus     : 2.00\n",
      "Std       : 2.28\n",
      "Var       : 5.19\n",
      "Min       : 1.00\n",
      "Max       : 14.00\n",
      "PTP       : 13.00\n",
      "Skewness  : 1.36\n",
      "Kurtosis  : 2.28\n",
      "Q1        : 2.00\n",
      "Q3        : 5.00\n",
      "IQR       : 3.00\n",
      "=--==--==--==--==--==--==--==--==--==--=\n",
      "Kolom: discount\n",
      "Sum       : 7,329.73\n",
      "Mean      : 0.14\n",
      "Median    : 0.00\n",
      "Modus     : 0.00\n",
      "Std       : 0.21\n",
      "Var       : 0.05\n",
      "Min       : 0.00\n",
      "Max       : 0.85\n",
      "PTP       : 0.85\n",
      "Skewness  : 1.39\n",
      "Kurtosis  : 0.72\n",
      "Q1        : 0.00\n",
      "Q3        : 0.20\n",
      "IQR       : 0.20\n",
      "=--==--==--==--==--==--==--==--==--==--=\n",
      "Kolom: profit\n",
      "Sum       : 1,469,034.82\n",
      "Mean      : 28.64\n",
      "Median    : 9.24\n",
      "Modus     : 0.00\n",
      "Std       : 174.42\n",
      "Var       : 30,423.77\n",
      "Min       : -6,599.98\n",
      "Max       : 8,399.98\n",
      "PTP       : 14,999.95\n",
      "Skewness  : 4.16\n",
      "Kurtosis  : 290.90\n",
      "Q1        : 0.00\n",
      "Q3        : 36.81\n",
      "IQR       : 36.81\n",
      "=--==--==--==--==--==--==--==--==--==--=\n",
      "Kolom: shipping_cost\n",
      "Sum       : 1,352,820.69\n",
      "Mean      : 26.38\n",
      "Median    : 7.79\n",
      "Modus     : 0.86\n",
      "Std       : 57.30\n",
      "Var       : 3,282.92\n",
      "Min       : 0.00\n",
      "Max       : 933.57\n",
      "PTP       : 933.57\n",
      "Skewness  : 5.86\n",
      "Kurtosis  : 50.02\n",
      "Q1        : 2.61\n",
      "Q3        : 24.45\n",
      "IQR       : 21.84\n",
      "=--==--==--==--==--==--==--==--==--==--=\n",
      "Kolom: year\n",
      "Sum       : 103,235,343.00\n",
      "Mean      : 2,012.78\n",
      "Median    : 2,013.00\n",
      "Modus     : 2,014.00\n",
      "Std       : 1.10\n",
      "Var       : 1.21\n",
      "Min       : 2,011.00\n",
      "Max       : 2,014.00\n",
      "PTP       : 3.00\n",
      "Skewness  : -0.34\n",
      "Kurtosis  : -1.22\n",
      "Q1        : 2,012.00\n",
      "Q3        : 2,014.00\n",
      "IQR       : 2.00\n",
      "=--==--==--==--==--==--==--==--==--==--=\n"
     ]
    }
   ],
   "source": [
    "for col in df.columns:\n",
    "    if df[col].dtype != 'object':\n",
    "        print(f'Kolom: {col}')\n",
    "        print(f'Sum       : {df[col].sum():,.2f}')\n",
    "        print(f'Mean      : {df[col].mean():,.2f}')\n",
    "        print(f'Median    : {df[col].median():,.2f}')\n",
    "        print(f'Modus     : {df[col].mode().iloc[0]:,.2f}')\n",
    "        print(f'Std       : {df[col].std():,.2f}')\n",
    "        print(f'Var       : {df[col].var():,.2f}')\n",
    "        print(f'Min       : {df[col].min():,.2f}')\n",
    "        print(f'Max       : {df[col].max():,.2f}')\n",
    "        print(f'PTP       : {np.ptp(df[col]):,.2f}')\n",
    "        print(f'Skewness  : {df[col].skew():,.2f}')\n",
    "        print(f'Kurtosis  : {df[col].kurt():,.2f}')\n",
    "        print(f'Q1        : {df[col].quantile(0.25):,.2f}')\n",
    "        print(f'Q3        : {df[col].quantile(0.75):,.2f}')\n",
    "        print(f'IQR       : {(df[col].quantile(0.75) - df[col].quantile(0.25)):,.2f}')\n",
    "        print('=--=' * 10)\n"
   ]
  },
  {
   "cell_type": "markdown",
   "id": "0dfab8d0",
   "metadata": {},
   "source": [
    "## MEMILIH KOLOM PROFIT"
   ]
  },
  {
   "cell_type": "code",
   "execution_count": 6,
   "id": "50eadb37",
   "metadata": {},
   "outputs": [
    {
     "data": {
      "text/plain": [
       "count    51290.000000\n",
       "mean        28.641740\n",
       "std        174.424113\n",
       "min      -6599.978000\n",
       "25%          0.000000\n",
       "50%          9.240000\n",
       "75%         36.810000\n",
       "max       8399.976000\n",
       "Name: profit, dtype: float64"
      ]
     },
     "execution_count": 6,
     "metadata": {},
     "output_type": "execute_result"
    }
   ],
   "source": [
    "df.profit.describe()"
   ]
  },
  {
   "cell_type": "code",
   "execution_count": 7,
   "id": "caba303f",
   "metadata": {},
   "outputs": [
    {
     "name": "stdout",
     "output_type": "stream",
     "text": [
      "Sum       : 1469034.82\n",
      "Mean      : 28.64\n",
      "Median    : 9.24\n",
      "Modus     : 0.0\n",
      "Std       : 174.42\n",
      "Var       : 30423.77\n",
      "Min       : -6599.98\n",
      "Max       : 8399.98\n",
      "PTP       : 14999.95\n",
      "Skewness  : 4.16\n",
      "Kurtosis  : 290.90\n",
      "Q1        : 0.00\n",
      "Q3        : 36.81\n",
      "IQR       : 36.81\n"
     ]
    }
   ],
   "source": [
    "profit = df['profit']\n",
    "print(f'Sum       : {profit.sum():.2f}')\n",
    "print(f'Mean      : {profit.mean():.2f}')\n",
    "print(f'Median    : {profit.median():.2f}')\n",
    "print(f'Modus     : {profit.mode().iloc[0]}')\n",
    "print(f'Std       : {profit.std():.2f}')\n",
    "print(f'Var       : {profit.var():.2f}')\n",
    "print(f'Min       : {profit.min():.2f}')\n",
    "print(f'Max       : {profit.max():.2f}')\n",
    "print(f'PTP       : {np.ptp(profit):.2f}')\n",
    "print(f'Skewness  : {profit.skew():.2f}')\n",
    "print(f'Kurtosis  : {profit.kurt():.2f}')\n",
    "print(f'Q1        : {profit.quantile(0.25):.2f}')\n",
    "print(f'Q3        : {profit.quantile(0.75):.2f}')\n",
    "print(f'IQR       : {(profit.quantile(0.75) - profit.quantile(0.25)):.2f}')\n"
   ]
  },
  {
   "cell_type": "markdown",
   "id": "47c5d7a0",
   "metadata": {},
   "source": [
    "## MELIHAT KORELASI KATEGORI LAIN TERHADAP PROFIT"
   ]
  },
  {
   "cell_type": "code",
   "execution_count": 17,
   "id": "979f62cc",
   "metadata": {},
   "outputs": [
    {
     "data": {
      "image/png": "[encoded data removed]",
      "text/plain": [
       "<Figure size 600x800 with 2 Axes>"
      ]
     },
     "metadata": {},
     "output_type": "display_data"
    }
   ],
   "source": [
    "corr_matrix = df.corr(numeric_only=True)\n",
    "\n",
    "profit_corr = corr_matrix['profit'].sort_values(ascending=False)\n",
    "\n",
    "plt.figure(figsize=(6, 8))\n",
    "sns.heatmap(profit_corr.to_frame(), annot=True, cmap='coolwarm', vmin=-1, vmax=1)\n",
    "plt.title('Korelasi terhadap Profit')\n",
    "plt.show()\n"
   ]
  },
  {
   "cell_type": "markdown",
   "id": "15a0ef02",
   "metadata": {},
   "source": [
    "## MELIHAT SEBARAN DATA PROFIT"
   ]
  },
  {
   "cell_type": "code",
   "execution_count": 58,
   "id": "06c21096",
   "metadata": {},
   "outputs": [
    {
     "data": {
      "image/png": "[encoded data removed]",
      "text/plain": [
       "<Figure size 640x480 with 1 Axes>"
      ]
     },
     "metadata": {},
     "output_type": "display_data"
    }
   ],
   "source": [
    "sns.histplot(df['profit'], kde=True, bins=50)\n",
    "plt.title('Distribusi Profit')\n",
    "plt.xlabel('Profit')\n",
    "plt.show()"
   ]
  },
  {
   "cell_type": "code",
   "execution_count": 9,
   "id": "550dd0b3",
   "metadata": {},
   "outputs": [
    {
     "data": {
      "image/png": "[encoded data removed]",
      "text/plain": [
       "<Figure size 800x200 with 1 Axes>"
      ]
     },
     "metadata": {},
     "output_type": "display_data"
    }
   ],
   "source": [
    "plt.figure(figsize=(8, 2))\n",
    "sns.boxplot(x=df['profit'])\n",
    "plt.title('Boxplot Profit')\n",
    "plt.xlabel('Profit')\n",
    "plt.show()"
   ]
  },
  {
   "cell_type": "code",
   "execution_count": 10,
   "id": "b295505a",
   "metadata": {},
   "outputs": [
    {
     "data": {
      "image/png": "[encoded data removed]",
      "text/plain": [
       "<Figure size 800x200 with 1 Axes>"
      ]
     },
     "metadata": {},
     "output_type": "display_data"
    }
   ],
   "source": [
    "import seaborn as sns\n",
    "import matplotlib.pyplot as plt\n",
    "\n",
    "# Hitung Q1, Q3, dan IQR\n",
    "q1 = df['profit'].quantile(0.25)\n",
    "q3 = df['profit'].quantile(0.75)\n",
    "iqr = q3 - q1\n",
    "\n",
    "# Tentukan batas tampilan grafik (sedikit di luar IQR)\n",
    "lower = q1 - 0.5 * iqr\n",
    "upper = q3 + 0.5 * iqr\n",
    "\n",
    "# Plot boxplot\n",
    "plt.figure(figsize=(8, 2))\n",
    "sns.boxplot(x=df['profit'], color='skyblue')\n",
    "plt.xlim(lower, upper)  # Zoom in di sekitar IQR\n",
    "plt.title('Boxplot Profit (Fokus pada IQR)')\n",
    "plt.xlabel('Profit')\n",
    "plt.show()\n"
   ]
  },
  {
   "cell_type": "code",
   "execution_count": 11,
   "id": "236918da",
   "metadata": {},
   "outputs": [
    {
     "data": {
      "text/plain": [
       "profit\n",
       "0.00    668\n",
       "4.32     70\n",
       "3.96     69\n",
       "7.92     67\n",
       "2.64     63\n",
       "2.88     60\n",
       "6.84     57\n",
       "9.00     56\n",
       "0.48     55\n",
       "3.42     55\n",
       "Name: count, dtype: int64"
      ]
     },
     "execution_count": 11,
     "metadata": {},
     "output_type": "execute_result"
    }
   ],
   "source": [
    "df.profit.value_counts().sort_values(ascending=False).head(10)"
   ]
  },
  {
   "cell_type": "markdown",
   "id": "c7383fae",
   "metadata": {},
   "source": [
    "## MENELUSURI PROFIT PADA IQR DALAM DAN LUAR IQR"
   ]
  },
  {
   "cell_type": "code",
   "execution_count": 14,
   "id": "c71585c3",
   "metadata": {},
   "outputs": [
    {
     "name": "stdout",
     "output_type": "stream",
     "text": [
      "Total Positive Profit: 2,389,392.21\n",
      "Total Negative Profit: -920,357.39\n",
      "Total Profit: 1,469,034.82\n"
     ]
    }
   ],
   "source": [
    "print(f'Total Positive Profit: {df[df['profit'] >= 0].profit.sum():,.2f}')\n",
    "print(f'Total Negative Profit: {df[df['profit'] < 0].profit.sum():,.2f}')\n",
    "print(f'Total Profit: {profit.sum():,.2f}')\n"
   ]
  },
  {
   "cell_type": "code",
   "execution_count": 12,
   "id": "2968d2a5",
   "metadata": {},
   "outputs": [
    {
     "name": "stdout",
     "output_type": "stream",
     "text": [
      "Jumlah Transaksi di dalam IQR: 34963\n",
      "Total Profit dalam IQR: 408,330.75\n"
     ]
    }
   ],
   "source": [
    "inside_iqr = df[(df['profit'] > lower) & (df['profit'] < upper)].profit\n",
    "print(f'Jumlah Transaksi di dalam IQR: {inside_iqr.count()}')\n",
    "print(f'Total Profit dalam IQR: {inside_iqr.sum():,.2f}')"
   ]
  },
  {
   "cell_type": "code",
   "execution_count": 13,
   "id": "f4bce8de",
   "metadata": {},
   "outputs": [
    {
     "name": "stdout",
     "output_type": "stream",
     "text": [
      "Jumlah Transaksi di luar IQR: 16326\n",
      "Total Profit luar IQR: 1,060,722.48\n"
     ]
    }
   ],
   "source": [
    "outside_iqr = df[(df['profit'] < lower) | (df['profit'] > upper)].profit\n",
    "print(f'Jumlah Transaksi di luar IQR: {outside_iqr.count()}')\n",
    "print(f'Total Profit luar IQR: {outside_iqr.sum():,.2f}')"
   ]
  },
  {
   "cell_type": "code",
   "execution_count": 57,
   "id": "0f33a7fa",
   "metadata": {},
   "outputs": [
    {
     "name": "stdout",
     "output_type": "stream",
     "text": [
      "Proporsi profit dari outlier: 72.21%\n"
     ]
    }
   ],
   "source": [
    "total_profit = profit.sum()\n",
    "outside_profit = outside_iqr.sum()\n",
    "print(f'Proporsi profit dari outlier: {outside_profit/total_profit:.2%}')"
   ]
  },
  {
   "cell_type": "markdown",
   "id": "baae78c5",
   "metadata": {},
   "source": [
    "## MENELUSURI KATEGORI PRODUK YANG PALING BANYAK TERJUAL PADA TIAP IQR"
   ]
  },
  {
   "cell_type": "code",
   "execution_count": 38,
   "id": "3af66fcd",
   "metadata": {},
   "outputs": [
    {
     "name": "stdout",
     "output_type": "stream",
     "text": [
      "Jumlah Transaksi di dalam IQR per Kategori: category\n",
      "Furniture           4,794\n",
      "Office Supplies    25,659\n",
      "Technology          4,510\n",
      "Name: profit, dtype: object\n",
      "\n",
      "Total Profit di dalam IQR per Kategori: category\n",
      "Furniture           71,857.10\n",
      "Office Supplies    253,546.35\n",
      "Technology          82,927.30\n",
      "Name: profit, dtype: object\n"
     ]
    }
   ],
   "source": [
    "# Didalam IQR\n",
    "kategori_dalam_iqr = df[(df['profit'] > lower) & (df['profit'] < upper)].groupby('category')['profit']\n",
    "print(f'Jumlah Transaksi di dalam IQR per Kategori: {kategori_dalam_iqr.count().apply(lambda x: f'{x:,}')}')\n",
    "print('')\n",
    "print(f'Total Profit di dalam IQR per Kategori: {kategori_dalam_iqr.sum().apply(lambda x: f'{x:,.2f}')}')"
   ]
  },
  {
   "cell_type": "code",
   "execution_count": 39,
   "id": "e4b76ec2",
   "metadata": {},
   "outputs": [
    {
     "name": "stdout",
     "output_type": "stream",
     "text": [
      "Jumlah Transaksi di luar IQR per Kategori: category\n",
      "Furniture          5,082\n",
      "Office Supplies    5,613\n",
      "Technology         5,631\n",
      "Name: profit, dtype: object\n",
      "\n",
      "Total Profit di luar IQR per Kategori: category\n",
      "Furniture          214,925.15\n",
      "Office Supplies    264,945.89\n",
      "Technology         580,851.44\n",
      "Name: profit, dtype: object\n"
     ]
    }
   ],
   "source": [
    "# Diluar IQR\n",
    "kategori_luar_iqr = df[(df['profit'] < lower) | (df['profit'] > upper)].groupby('category')['profit']\n",
    "print(f'Jumlah Transaksi di luar IQR per Kategori: {kategori_luar_iqr.count().apply(lambda x: f'{x:,}')}')\n",
    "print('')\n",
    "print(f'Total Profit di luar IQR per Kategori: {kategori_luar_iqr.sum().apply(lambda x: f'{x:,.2f}')}')"
   ]
  },
  {
   "cell_type": "markdown",
   "id": "d9c1ed51",
   "metadata": {},
   "source": [
    "## NEGATIVE PROFIT PRODUCT ANALYSIS"
   ]
  },
  {
   "cell_type": "code",
   "execution_count": 67,
   "id": "557f77d2",
   "metadata": {},
   "outputs": [
    {
     "data": {
      "text/plain": [
       "category\n",
       "Office Supplies    7003\n",
       "Furniture          3116\n",
       "Technology         2424\n",
       "Name: count, dtype: int64"
      ]
     },
     "execution_count": 67,
     "metadata": {},
     "output_type": "execute_result"
    }
   ],
   "source": [
    "negative_profit_product = df[df['profit'] < 0]\n",
    "negative_profit_product['category'].value_counts()"
   ]
  },
  {
   "cell_type": "code",
   "execution_count": 75,
   "id": "60bb0154",
   "metadata": {},
   "outputs": [],
   "source": [
    "q1_n = negative_profit_product['profit'].quantile(0.25)\n",
    "q3_n = negative_profit_product['profit'].quantile(0.75)\n",
    "iqr_n = q3_n - q1_n\n",
    "\n",
    "lower_n = q1_n - 0.5 * iqr_n\n",
    "upper_n = q3_n + 0.5 * iqr_n"
   ]
  },
  {
   "cell_type": "code",
   "execution_count": 78,
   "id": "c89a2992",
   "metadata": {},
   "outputs": [
    {
     "name": "stdout",
     "output_type": "stream",
     "text": [
      "Jumlah Transaksi di dalam IQR: 5867\n",
      "Total Loss dalam IQR: -42,513.78\n"
     ]
    }
   ],
   "source": [
    "inside_iqr_negative = negative_profit_product[(negative_profit_product['profit'] > lower) & (negative_profit_product['profit'] < upper)].profit\n",
    "print(f'Jumlah Transaksi di dalam IQR: {inside_iqr_negative.count()}')\n",
    "print(f'Total Loss dalam IQR: {inside_iqr_negative.sum():,.2f}')"
   ]
  },
  {
   "cell_type": "code",
   "execution_count": 80,
   "id": "3ba989e9",
   "metadata": {},
   "outputs": [
    {
     "name": "stdout",
     "output_type": "stream",
     "text": [
      "Jumlah Transaksi di dalam IQR: 6675\n",
      "Total Loss dalam IQR: -877,825.21\n"
     ]
    }
   ],
   "source": [
    "outside_iqr_negative = negative_profit_product[(negative_profit_product['profit'] < lower) | (negative_profit_product['profit'] > upper)]\n",
    "print(f'Jumlah Transaksi di dalam IQR: {outside_iqr_negative.profit.count()}')\n",
    "print(f'Total Loss dalam IQR: {outside_iqr_negative.profit.sum():,.2f}')"
   ]
  },
  {
   "cell_type": "code",
   "execution_count": 82,
   "id": "551dfd29",
   "metadata": {},
   "outputs": [
    {
     "data": {
      "text/plain": [
       "category\n",
       "Furniture          2213\n",
       "Office Supplies    2627\n",
       "Technology         1835\n",
       "Name: profit, dtype: int64"
      ]
     },
     "execution_count": 82,
     "metadata": {},
     "output_type": "execute_result"
    }
   ],
   "source": [
    "outside_iqr_negative.groupby('category')['profit'].count()"
   ]
  },
  {
   "cell_type": "code",
   "execution_count": 81,
   "id": "89484290",
   "metadata": {},
   "outputs": [
    {
     "data": {
      "text/plain": [
       "category\n",
       "Furniture         -362391.20300\n",
       "Office Supplies   -233604.29620\n",
       "Technology        -281829.70638\n",
       "Name: profit, dtype: float64"
      ]
     },
     "execution_count": 81,
     "metadata": {},
     "output_type": "execute_result"
    }
   ],
   "source": [
    "outside_iqr_negative.groupby('category')['profit'].sum()"
   ]
  },
  {
   "cell_type": "code",
   "execution_count": 83,
   "id": "f6a2d2f3",
   "metadata": {},
   "outputs": [
    {
     "data": {
      "text/plain": [
       "sub_category\n",
       "Tables        -143803.71150\n",
       "Bookcases     -100429.00930\n",
       "Phones         -94888.55850\n",
       "Chairs         -93003.69800\n",
       "Machines       -77990.78910\n",
       "Storage        -71865.58850\n",
       "Copiers        -71003.38998\n",
       "Appliances     -63298.33830\n",
       "Binders        -45902.27060\n",
       "Accessories    -37946.96880\n",
       "Furnishings    -25154.78420\n",
       "Art            -16995.00550\n",
       "Supplies       -15716.92980\n",
       "Envelopes       -8108.09950\n",
       "Paper           -7558.98770\n",
       "Fasteners       -3026.60290\n",
       "Labels          -1132.47340\n",
       "Name: profit, dtype: float64"
      ]
     },
     "execution_count": 83,
     "metadata": {},
     "output_type": "execute_result"
    }
   ],
   "source": [
    "outside_iqr_negative.groupby('sub_category')['profit'].sum().sort_values(ascending=True)"
   ]
  },
  {
   "cell_type": "code",
   "execution_count": null,
   "id": "2e9d72db",
   "metadata": {},
   "outputs": [],
   "source": []
  },
  {
   "cell_type": "code",
   "execution_count": 126,
   "id": "e15be6b2",
   "metadata": {},
   "outputs": [
    {
     "data": {
      "text/plain": [
       "segment\n",
       "Consumer      -69307.5630\n",
       "Corporate     -50215.4977\n",
       "Home Office   -24280.6508\n",
       "Name: profit, dtype: float64"
      ]
     },
     "execution_count": 126,
     "metadata": {},
     "output_type": "execute_result"
    }
   ],
   "source": [
    "outside_iqr_negative[outside_iqr_negative['sub_category'] == 'Tables'].groupby('segment')['profit'].sum()\n",
    "# df[df['sub_category'] == 'Tables'].groupby('region')['profit'].sum()\n"
   ]
  },
  {
   "cell_type": "code",
   "execution_count": 122,
   "id": "9798d5ae",
   "metadata": {},
   "outputs": [
    {
     "data": {
      "text/plain": [
       "<Axes: xlabel='discount'>"
      ]
     },
     "execution_count": 122,
     "metadata": {},
     "output_type": "execute_result"
    },
    {
     "data": {
      "image/png": "[encoded data removed]",
      "text/plain": [
       "<Figure size 640x480 with 1 Axes>"
      ]
     },
     "metadata": {},
     "output_type": "display_data"
    }
   ],
   "source": [
    "outside_iqr_negative.groupby('discount')['profit'].sum().plot()\n"
   ]
  },
  {
   "cell_type": "code",
   "execution_count": null,
   "id": "64ef21a8",
   "metadata": {},
   "outputs": [],
   "source": []
  }
 ],
 "metadata": {
  "kernelspec": {
   "display_name": "myvenv",
   "language": "python",
   "name": "python3"
  },
  "language_info": {
   "codemirror_mode": {
    "name": "ipython",
    "version": 3
   },
   "file_extension": ".py",
   "mimetype": "text/x-python",
   "name": "python",
   "nbconvert_exporter": "python",
   "pygments_lexer": "ipython3",
   "version": "3.12.10"
  }
 },
 "nbformat": 4,
 "nbformat_minor": 5
}
